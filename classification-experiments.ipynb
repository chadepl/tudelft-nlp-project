{
 "cells": [
  {
   "cell_type": "markdown",
   "metadata": {},
   "source": [
    "# Classification Experiments"
   ]
  },
  {
   "cell_type": "markdown",
   "metadata": {},
   "source": [
    "## Load libraries"
   ]
  },
  {
   "cell_type": "code",
   "execution_count": 138,
   "metadata": {},
   "outputs": [],
   "source": [
    "import numpy as np\n",
    "import pandas as pd\n",
    "import xgboost as xgb\n",
    "from sklearn.metrics import auc, accuracy_score, confusion_matrix, mean_squared_error\n",
    "from sklearn.model_selection import train_test_split\n",
    "from sklearn.feature_selection import mutual_info_classif\n",
    "from sklearn.ensemble import AdaBoostClassifier\n",
    "from sklearn.tree import DecisionTreeClassifier\n",
    "from sklearn.model_selection import GridSearchCV\n",
    "from sklearn import metrics\n",
    "from sklearn.preprocessing import StandardScaler, MinMaxScaler\n",
    "from sklearn.feature_selection import SelectKBest, mutual_info_classif\n",
    "from sklearn.naive_bayes import GaussianNB\n",
    "from sklearn.metrics import f1_score\n",
    "import matplotlib.pyplot as plt \n",
    "from sklearn.neighbors import KNeighborsClassifier\n",
    "import copy\n",
    "size_set = \"small\"\n",
    "pd.set_option('precision', 4)\n",
    "pd.options.mode.use_inf_as_na = True\n",
    "goal_metrics = ['f1']\n"
   ]
  },
  {
   "cell_type": "markdown",
   "metadata": {},
   "source": [
    "## Load feature sets and get them ready"
   ]
  },
  {
   "cell_type": "markdown",
   "metadata": {},
   "source": [
    "Here we load the features that we created in the preprocessing and feature extraction notebook. The schema of this file is the following: ADD SCHEMA"
   ]
  },
  {
   "cell_type": "code",
   "execution_count": 139,
   "metadata": {},
   "outputs": [],
   "source": [
    "X_train, X_test, y_train, y_test = None,None,None,None\n",
    "if(size_set == \"small\"):   \n",
    "    dataset= \"feature_set_small.csv\"\n",
    "    feature = \"labels_set_small.csv\"  \n",
    "else:\n",
    "    dataset = \"feature_set_large.csv\"\n",
    "    feature = \"labels_set_large.csv\"\n",
    "\n",
    "data = pd.read_csv(dataset).fillna(0)\n",
    "labels = pd.read_csv(feature)\n",
    "X_train, X_test, y_train, y_test = train_test_split(data.values, labels.values[:,0], test_size=0.25)\n",
    "names = list(data)\n",
    "ratio = float(np.sum(y_train == 'no-clickbait')) / np.sum(y_train == 'clickbait')\n",
    "classifier_names = [\"AdaBoost\",\"XGBoost\",\"Naive Bayes\", \"KNN\"]"
   ]
  },
  {
   "cell_type": "markdown",
   "metadata": {},
   "source": [
    "## Processing section"
   ]
  },
  {
   "cell_type": "code",
   "execution_count": 140,
   "metadata": {},
   "outputs": [],
   "source": [
    "def scaling_features(X_train,X_test,type_scale=\"standard\"):\n",
    "    train,test = None,None\n",
    "    if(type_scale == \"standard\"):\n",
    "        scaler = StandardScaler()\n",
    "        train =  copy.deepcopy(scaler.fit_transform(X_train))\n",
    "        test = copy.deepcopy(scaler.transform(X_test))\n",
    "    else:\n",
    "        scaler = MinMaxScaler()\n",
    "        train = copy.deepcopy(scaler.fit_transform(X_train))\n",
    "        test = copy.deepcopy(scaler.transform(X_test))\n",
    "    return [train,test]"
   ]
  },
  {
   "cell_type": "code",
   "execution_count": 141,
   "metadata": {},
   "outputs": [
    {
     "name": "stdout",
     "output_type": "stream",
     "text": [
      "featNumCharPostText featRatioCharTargetDescription_TargetTitle\n"
     ]
    },
    {
     "data": {
      "text/plain": [
       "array([ 0, 32])"
      ]
     },
     "execution_count": 141,
     "metadata": {},
     "output_type": "execute_result"
    }
   ],
   "source": [
    "print(names[0],names[32])\n",
    "\n",
    "np.argwhere(a.get_support()).flatten()"
   ]
  },
  {
   "cell_type": "markdown",
   "metadata": {},
   "source": [
    "## Feature Ranking"
   ]
  },
  {
   "cell_type": "code",
   "execution_count": 142,
   "metadata": {},
   "outputs": [],
   "source": [
    "feature_importance = list(zip(names,mutual_info_classif(X_train,y_train)))\n",
    "feature_importance_table = pd.DataFrame(feature_importance,columns=[\"feature\",\"importance\"]) \n",
    "feature_importance_table = feature_importance_table.sort_values(\"importance\",ascending=False)\n",
    "feature_importance_table['index'] = range(1, len(feature_importance_table) + 1)"
   ]
  },
  {
   "cell_type": "code",
   "execution_count": 143,
   "metadata": {},
   "outputs": [],
   "source": [
    "def get_selector(X,y,number_feat):\n",
    "    return SelectKBest(mutual_info_classif, k=2).fit(X, y)"
   ]
  },
  {
   "cell_type": "code",
   "execution_count": 144,
   "metadata": {},
   "outputs": [],
   "source": [
    "def get_feature_curves(classifiers, X_train,y_train,X_test,y_test,n):\n",
    "    performances = np.zeros((3,X_train.shape[1]))\n",
    "    for i in range(n):\n",
    "        selector = get_selector(X_train,y_train,i)\n",
    "        np.argwhere(selector.get_support()).flatten()\n",
    "        X_new_train = selector.transform(X_train)\n",
    "        adaboost_c = best_params(adaboost_c,grid_adaboost,X_new_train,y_train)\n",
    "        xgb_c = best_params(xgb_c,grid_xgboost,X_new_train,y_train)   \n",
    "        gnb_c.fit(X_new_train,y_train)\n",
    "\n",
    "        X_new_test = selector.transform(X_test)\n",
    "        for enum, classifier in enumerate(classifiers):\n",
    "            y_true, y_pred = y_test, classifier.predict(X_new_test)\n",
    "            performances[enum,i] = f1_score(y_true, y_pred, average='weighted')    \n",
    "    return performances;\n",
    "        "
   ]
  },
  {
   "cell_type": "markdown",
   "metadata": {},
   "source": [
    "### Make feature curve by importance"
   ]
  },
  {
   "cell_type": "code",
   "execution_count": 126,
   "metadata": {},
   "outputs": [
    {
     "data": {
      "image/png": "[encoded data removed]",
      "text/plain": [
       "<Figure size 432x288 with 1 Axes>"
      ]
     },
     "metadata": {},
     "output_type": "display_data"
    }
   ],
   "source": [
    "plt.plot(np.arange(n),performances[0,0:n],'-b') \n",
    "plt.plot(np.arange(n),performances[1,0:n],'-g') \n",
    "plt.plot(np.arange(n),performances[2,0:n],'-r') \n",
    "\n",
    "plt.title('Reaction') \n",
    "plt.legend(['Adaboost', 'XGBoost','Naive Bayes'], loc='lower right')\n",
    "plt.show() "
   ]
  },
  {
   "cell_type": "code",
   "execution_count": 128,
   "metadata": {},
   "outputs": [
    {
     "data": {
      "text/plain": [
       "array([0.65667828, 0.62232905, 0.6261959 , 0.62232905, 0.62232905,\n",
       "       0.6261959 , 0.6261959 , 0.6261959 , 0.62232905, 0.6261959 ,\n",
       "       0.6261959 , 0.62232905, 0.6261959 , 0.6261959 , 0.6261959 ,\n",
       "       0.62691279, 0.6261959 , 0.6261959 , 0.6261959 , 0.6261959 ,\n",
       "       0.63228216, 0.6261959 , 0.62232905, 0.6261959 , 0.6261959 ,\n",
       "       0.6261959 , 0.62232905, 0.6261959 , 0.62232905, 0.6261959 ,\n",
       "       0.6261959 , 0.65667828, 0.6261959 , 0.6261959 , 0.6261959 ,\n",
       "       0.62691279, 0.6261959 , 0.6261959 , 0.6261959 , 0.6261959 ,\n",
       "       0.6261959 , 0.6261959 , 0.62232905, 0.62232905, 0.6261959 ])"
      ]
     },
     "execution_count": 128,
     "metadata": {},
     "output_type": "execute_result"
    }
   ],
   "source": [
    "performances[2,0:n]"
   ]
  },
  {
   "cell_type": "markdown",
   "metadata": {},
   "source": [
    "## Definition of classifiers"
   ]
  },
  {
   "cell_type": "code",
   "execution_count": 48,
   "metadata": {},
   "outputs": [],
   "source": [
    "def best_params(classifier,param_grid,X,y):\n",
    "    print(type(classifier).__name__,thing)\n",
    "    for score in goal_metrics:\n",
    "        print(\"# Tuning hyper-parameters for %s\" %score)\n",
    "        print()\n",
    "\n",
    "        clf = GridSearchCV(classifier, param_grid, cv=5,\n",
    "                           scoring='%s_macro' % score)\n",
    "        clf.fit(X, y)\n",
    "\n",
    "        print(\"Best parameters set found on development set:\")\n",
    "        print()\n",
    "        print(clf.best_params_)\n",
    "        print()\n",
    "        print(\"Grid scores on development set:\")\n",
    "        print()\n",
    "        means = clf.cv_results_['mean_test_score']\n",
    "        stds = clf.cv_results_['std_test_score']\n",
    "        #for mean, std, params in zip(means, stds, clf.cv_results_['params']):\n",
    "        #    print(\"%0.3f (+/-%0.03f) for %r\"\n",
    "        #          % (mean, std * 2, params))\n",
    "        print()\n",
    "\n",
    "        return clf.best_estimator_"
   ]
  },
  {
   "cell_type": "code",
   "execution_count": 131,
   "metadata": {},
   "outputs": [],
   "source": [
    "grid_adaboost = {\"base_estimator__criterion\" : [\"gini\", \"entropy\"],\n",
    "                  \"base_estimator__splitter\" :   [\"best\", \"random\"],\n",
    "                  \"base_estimator__class_weight\": [\"balanced\",None],\n",
    "                  \"n_estimators\": [10,20,30,40,50]\n",
    "                 }\n",
    "\n",
    "grid_xgboost = { \n",
    "              'objective':['binary:logistic'],\n",
    "              'learning_rate': [0.2], \n",
    "              'max_depth': [5,6,7],\n",
    "              'booster': ['gbtree'],\n",
    "              'n_estimators': [20,30,40],\n",
    "              'scale_pos_weight':[1,ratio, 1/ratio]}\n",
    "grid_knn = {'n_neighbors':[2,3,4,5,6,7,8,9,10]}\n",
    "\n",
    "#best adaboost \n",
    "#{'base_estimator__class_weight': 'balanced', 'base_estimator__criterion': 'entropy', 'base_estimator__splitter': 'best', 'n_estimators': 30}\n",
    "#best xgboost\n",
    "#{'booster': 'gbtree', 'lambda': 0, 'learning_rate': 0.2, 'max_depth': 6, 'n_estimators': 30, 'objective': 'binary:logistic', 'scale_pos_weight': 0.4623314829500396}"
   ]
  },
  {
   "cell_type": "code",
   "execution_count": 132,
   "metadata": {},
   "outputs": [],
   "source": [
    "def classification_report(thing_tried,classifier, X_test,y_test):\n",
    "        print(thing_tried)\n",
    "        print(\"Detailed classification report:\")\n",
    "        print()\n",
    "        print(\"The model is trained on the full development set.\")\n",
    "        print(\"The scores are computed on the full evaluation set.\")\n",
    "        print()\n",
    "        y_true, y_pred = y_test, classifier.predict(X_test)\n",
    "        print(\"Classification report for classifier %s:\\n%s\\n\"\n",
    "        % (classifier, metrics.classification_report(y_true, y_pred)))\n",
    "        print(\"Confusion matrix:\\n%s\" % metrics.confusion_matrix(y_true, y_pred))\n",
    "        print()\n",
    "        return [y_true, y_pred]"
   ]
  },
  {
   "cell_type": "code",
   "execution_count": 133,
   "metadata": {},
   "outputs": [],
   "source": [
    "def report_classifiers(classifiers,X_test,y_test,step):\n",
    "    for c in classifiers:\n",
    "        classification_report(step,c,X_test,y_test)"
   ]
  },
  {
   "cell_type": "markdown",
   "metadata": {},
   "source": [
    "## Classification"
   ]
  },
  {
   "cell_type": "code",
   "execution_count": 134,
   "metadata": {},
   "outputs": [],
   "source": [
    "def train_classifiers(X_train,y_train):\n",
    "    adaboost_c = AdaBoostClassifier(DecisionTreeClassifier(max_depth=1,))\n",
    "    xgb_c = xgb.XGBClassifier()\n",
    "    gnb_c = GaussianNB()\n",
    "    knn_c = KNeighborsClassifier()\n",
    "    \n",
    "    adaboost_c = best_params(adaboost_c,grid_adaboost,X_train,y_train)\n",
    "    xgb_c = best_params(xgb_c,grid_xgboost,X_train,y_train)   \n",
    "    gnb_c.fit(X_train,y_train)\n",
    "    knn_c = best_params(knn_c,grid_xgboost,X_train,y_train)\n",
    "    classifiers =[adaboost_c,xgb_c,gnb_c,knn_c]\n",
    "    return classifiers"
   ]
  },
  {
   "cell_type": "code",
   "execution_count": 137,
   "metadata": {
    "scrolled": false
   },
   "outputs": [
    {
     "ename": "NameError",
     "evalue": "name 'KNeighborsClassifier' is not defined",
     "output_type": "error",
     "traceback": [
      "\u001b[0;31m---------------------------------------------------------------------------\u001b[0m",
      "\u001b[0;31mNameError\u001b[0m                                 Traceback (most recent call last)",
      "\u001b[0;32m<ipython-input-137-ebe4d1e9731c>\u001b[0m in \u001b[0;36m<module>\u001b[0;34m()\u001b[0m\n\u001b[1;32m      5\u001b[0m     \u001b[0;32mif\u001b[0m\u001b[0;34m(\u001b[0m\u001b[0mthing\u001b[0m \u001b[0;34m==\u001b[0m \u001b[0;34m'normal'\u001b[0m\u001b[0;34m)\u001b[0m\u001b[0;34m:\u001b[0m\u001b[0;34m\u001b[0m\u001b[0;34m\u001b[0m\u001b[0m\n\u001b[1;32m      6\u001b[0m \u001b[0;34m\u001b[0m\u001b[0m\n\u001b[0;32m----> 7\u001b[0;31m         \u001b[0mclassifiers\u001b[0m \u001b[0;34m=\u001b[0m \u001b[0mtrain_classifiers\u001b[0m\u001b[0;34m(\u001b[0m\u001b[0mX_train\u001b[0m\u001b[0;34m,\u001b[0m\u001b[0my_train\u001b[0m\u001b[0;34m)\u001b[0m\u001b[0;34m\u001b[0m\u001b[0;34m\u001b[0m\u001b[0m\n\u001b[0m\u001b[1;32m      8\u001b[0m         \u001b[0mreport_classifiers\u001b[0m\u001b[0;34m(\u001b[0m\u001b[0mclassifiers\u001b[0m\u001b[0;34m,\u001b[0m\u001b[0mX_test\u001b[0m\u001b[0;34m,\u001b[0m\u001b[0my_test\u001b[0m\u001b[0;34m,\u001b[0m\u001b[0mthing\u001b[0m\u001b[0;34m)\u001b[0m\u001b[0;34m\u001b[0m\u001b[0;34m\u001b[0m\u001b[0m\n\u001b[1;32m      9\u001b[0m     \u001b[0;32mif\u001b[0m\u001b[0;34m(\u001b[0m\u001b[0mthing\u001b[0m \u001b[0;34m==\u001b[0m \u001b[0;34m'scale'\u001b[0m\u001b[0;34m)\u001b[0m\u001b[0;34m:\u001b[0m\u001b[0;34m\u001b[0m\u001b[0;34m\u001b[0m\u001b[0m\n",
      "\u001b[0;32m<ipython-input-134-9260f43e575b>\u001b[0m in \u001b[0;36mtrain_classifiers\u001b[0;34m(X_train, y_train)\u001b[0m\n\u001b[1;32m      3\u001b[0m     \u001b[0mxgb_c\u001b[0m \u001b[0;34m=\u001b[0m \u001b[0mxgb\u001b[0m\u001b[0;34m.\u001b[0m\u001b[0mXGBClassifier\u001b[0m\u001b[0;34m(\u001b[0m\u001b[0;34m)\u001b[0m\u001b[0;34m\u001b[0m\u001b[0;34m\u001b[0m\u001b[0m\n\u001b[1;32m      4\u001b[0m     \u001b[0mgnb_c\u001b[0m \u001b[0;34m=\u001b[0m \u001b[0mGaussianNB\u001b[0m\u001b[0;34m(\u001b[0m\u001b[0;34m)\u001b[0m\u001b[0;34m\u001b[0m\u001b[0;34m\u001b[0m\u001b[0m\n\u001b[0;32m----> 5\u001b[0;31m     \u001b[0mknn_c\u001b[0m \u001b[0;34m=\u001b[0m \u001b[0mKNeighborsClassifier\u001b[0m\u001b[0;34m(\u001b[0m\u001b[0;34m)\u001b[0m\u001b[0;34m\u001b[0m\u001b[0;34m\u001b[0m\u001b[0m\n\u001b[0m\u001b[1;32m      6\u001b[0m \u001b[0;34m\u001b[0m\u001b[0m\n\u001b[1;32m      7\u001b[0m     \u001b[0madaboost_c\u001b[0m \u001b[0;34m=\u001b[0m \u001b[0mbest_params\u001b[0m\u001b[0;34m(\u001b[0m\u001b[0madaboost_c\u001b[0m\u001b[0;34m,\u001b[0m\u001b[0mgrid_adaboost\u001b[0m\u001b[0;34m,\u001b[0m\u001b[0mX_train\u001b[0m\u001b[0;34m,\u001b[0m\u001b[0my_train\u001b[0m\u001b[0;34m)\u001b[0m\u001b[0;34m\u001b[0m\u001b[0;34m\u001b[0m\u001b[0m\n",
      "\u001b[0;31mNameError\u001b[0m: name 'KNeighborsClassifier' is not defined"
     ]
    }
   ],
   "source": [
    "things_try = ['normal','scale','feture_selection','feature_extraction','ensemble','threshold']\n",
    "\n",
    "\n",
    "for thing in things_try:\n",
    "    if(thing == 'normal'):\n",
    "\n",
    "        classifiers = train_classifiers(X_train,y_train)\n",
    "        report_classifiers(classifiers,X_test,y_test,thing)\n",
    "    if(thing == 'scale'):\n",
    "        type_scale = \"standard\"\n",
    "        [new_xtrain,new_xtest] = scaling_features(X_train,X_test,\"standard\")\n",
    "        classifiers = train_classifiers(new_xtrain,y_train)\n",
    "        report_classifiers(classifiers,new_xtest,y_test,thing+str(type_scale))\n",
    "        \n",
    "        type_scale = \"minmax\"\n",
    "        [new_xtrain,new_xtest] = scaling_features(X_train,X_test,type_scale)\n",
    "        classifiers = train_classifiers(new_xtrain,y_train)\n",
    "        report_classifiers(classifiers,new_xtest,y_test,thing+str(type_scale))\n",
    "    if(thing==\"feture_selection\"):\n",
    "        #number of featrues to check\n",
    "        n=45\n",
    "        type_scale = \"minmax\"\n",
    "        [new_xtrain,new_xtest] = scaling_features(X_train,X_test,type_scale)\n",
    "        classifiers = train_classifiers(new_xtrain,y_train)\n",
    "        get_feature_curves(classifiers, new_xtrain,y_train,new_xtest,y_test,n)\n",
    "        \n",
    "        "
   ]
  },
  {
   "cell_type": "markdown",
   "metadata": {},
   "source": [
    "## Learning curves and feature curves"
   ]
  },
  {
   "cell_type": "code",
   "execution_count": 16,
   "metadata": {},
   "outputs": [],
   "source": []
  },
  {
   "cell_type": "code",
   "execution_count": null,
   "metadata": {},
   "outputs": [],
   "source": []
  }
 ],
 "metadata": {
  "kernelspec": {
   "display_name": "Python 3",
   "language": "python",
   "name": "python3"
  },
  "language_info": {
   "codemirror_mode": {
    "name": "ipython",
    "version": 3
   },
   "file_extension": ".py",
   "mimetype": "text/x-python",
   "name": "python",
   "nbconvert_exporter": "python",
   "pygments_lexer": "ipython3",
   "version": "3.6.8"
  }
 },
 "nbformat": 4,
 "nbformat_minor": 2
}
